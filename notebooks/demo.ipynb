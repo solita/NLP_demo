{
 "cells": [
  {
   "cell_type": "markdown",
   "id": "9d0556f4-3bb7-4243-bd3a-d98228b7dc38",
   "metadata": {},
   "source": [
    " # Luonnollisen kielen käsittelyn (NLP) demo"
   ]
  },
  {
   "cell_type": "markdown",
   "id": "5777a40e-ba18-4b92-bc79-31b4826e9394",
   "metadata": {},
   "source": [
    "## Lähteitä"
   ]
  },
  {
   "cell_type": "markdown",
   "id": "059463da-581d-40a1-83b1-3cb602aa8bb1",
   "metadata": {},
   "source": [
    "Koodia, esimerkkejä:\n",
    "\n",
    "- Demo mukailee esimerkkitutorialia: https://www.tensorflow.org/hub/tutorials/tf2_text_classification\n",
    "- Osia myös tutorialeista: \n",
    "- https://medium.com/intro-to-artificial-intelligence/entity-extraction-using-deep-learning-8014acac6bb8\n",
    "- https://medium.com/swlh/using-xlnet-for-sentiment-classification-cfa948e65e85-\n",
    "- https://github.com/kcmankar/pytorch-sentiment-analysis-using-XLNet/blob/master/xlnet_sentiment_analysis.ipynb\n",
    "- https://news.machinelearning.sg/posts/sentiment_analysis_on_movie_reviews_with_xlnet/\n",
    "- https://deepnote.com/@datacloudgui/1-Millions-of-movies-rllcqn7nRk6lEmB3xRhlKw\n",
    "\n",
    "Dataa: \n",
    "\n",
    "- Sentimenttidata: https://www.tensorflow.org/api_docs/python/tf/keras/datasets/imdb\n",
    "- Sentimenttidata, alkuperäinen lähde? : https://ai.stanford.edu/~amaas/data/sentiment/\n",
    "- IMDb-data, raakadata: https://www.imdb.com/interfaces/\n",
    "\n",
    "Menetelmiä:\n",
    "\n",
    "- XLNet: https://github.com/zihangdai/xlnet\n",
    "- XLNet-paperi: https://arxiv.org/pdf/1906.08237.pdf\n",
    "- GLUE-sivusto: https://gluebenchmark.com/\n",
    "- GLUE-paperi: https://openreview.net/pdf?id=rJ4km2R5t7\n",
    "- Transformer-neuroverkkojen aarreaitta: https://github.com/huggingface/transformers\n",
    "\n",
    "Muita lähteitä:\n",
    "\n",
    "- NLP-kehitystä seuraileva GitHub-repo: https://github.com/sebastianruder/NLP-progress\n",
    "- Toinen NLP-GitHub -repo: https://github.com/keon/awesome-nlp\n",
    "- Turku NLP: https://turkunlp.org/\n",
    "- Kieliriippumattomia sana-assosiaatioita: https://universaldependencies.org/"
   ]
  },
  {
   "cell_type": "markdown",
   "id": "b62f9ea3-1627-466f-ac74-db301473f042",
   "metadata": {},
   "source": [
    "## Demo"
   ]
  },
  {
   "cell_type": "markdown",
   "id": "ba3fe870-b2c5-47a5-90ee-1657ca0c07ee",
   "metadata": {},
   "source": [
    "### Määritellään tarvittavat Python-kieliset paketit"
   ]
  },
  {
   "cell_type": "code",
   "execution_count": null,
   "id": "225a0414-28bd-47a5-a6cc-905bdde69e6c",
   "metadata": {},
   "outputs": [],
   "source": [
    "!pip install pymongo"
   ]
  },
  {
   "cell_type": "code",
   "execution_count": null,
   "id": "fc24580b-d93e-4c07-92a1-8a31be49f5be",
   "metadata": {},
   "outputs": [],
   "source": [
    "import os\n",
    "import pickle\n",
    "import numpy as np\n",
    "import pandas as pd\n",
    "\n",
    "# NNLP:tä varten:\n",
    "\n",
    "os.environ['TF_CPP_MIN_LOG_LEVEL'] = '3' # Kytketään pois GPU:n puuttumisesta kertovat virheviestit\n",
    "\n",
    "import tensorflow as tf\n",
    "import tensorflow_hub as hub\n",
    "import tensorflow_datasets as tfds\n",
    "\n",
    "from tensorflow import keras\n",
    "\n",
    "import matplotlib.pyplot as plt\n",
    "\n",
    "print(\"Version: \", tf.__version__)\n",
    "print(\"Eager mode: \", tf.executing_eagerly())\n",
    "print(\"Hub version: \", hub.__version__)\n",
    "print(\"GPU is\", \"available\" if tf.config.list_physical_devices('GPU') else \"NOT AVAILABLE\")\n",
    "\n",
    "from browse_imdb_data import get_review_param"
   ]
  },
  {
   "cell_type": "markdown",
   "id": "08f2a8f9-383d-49cd-b7aa-12d8eac8e358",
   "metadata": {},
   "source": [
    "### Pengotaan aineistoa yleiskäsityksen saamiseksi"
   ]
  },
  {
   "cell_type": "code",
   "execution_count": null,
   "id": "e00f97c7-a4dc-4521-8a8b-b2eab3815956",
   "metadata": {},
   "outputs": [],
   "source": [
    "data_dir = '/home/ml_user/data/IMDb_raw'\n",
    "\n",
    "file_name_meta = 'imdb_meta.pkl'\n",
    "file_name_meta_full = os.path.join(data_dir, file_name_meta)\n",
    "\n",
    "if os.path.exists(file_name_meta_full): # Luetaan data sisään\n",
    "    \n",
    "    df_meta = pd.read_pickle(file_name_meta_full)\n",
    "\n",
    "else: # Muodostetaan data\n",
    "    \n",
    "    df_tr_neg = get_review_param(data_dir, 'aclImdb/train/neg', 'aclImdb/train/urls_neg.txt')\n",
    "    df_tr_pos = get_review_param(data_dir, 'aclImdb/train/pos', 'aclImdb/train/urls_pos.txt')\n",
    "    df_tr_unsup = get_review_param(data_dir, 'aclImdb/train/unsup', 'aclImdb/train/urls_unsup.txt')\n",
    "\n",
    "    df_te_neg = get_review_param(data_dir, 'aclImdb/test/neg', 'aclImdb/test/urls_neg.txt')\n",
    "    df_te_pos = get_review_param(data_dir, 'aclImdb/test/neg', 'aclImdb/test/urls_pos.txt')\n",
    "\n",
    "    df_reviews_all = pd.concat([df_tr_neg, df_tr_pos, df_tr_unsup, df_te_neg, df_te_pos])\n",
    "\n",
    "    df_reviews_all.sort_values(by=['imdb_id'], inplace=True, ignore_index=True)\n",
    "\n",
    "    del df_tr_neg, df_tr_pos, df_tr_unsup, df_te_neg, df_te_pos\n",
    "\n",
    "    df_uniq_titles = df_reviews_all.imdb_id.drop_duplicates() # Kerää vain uniikit rivit\n",
    "    \n",
    "    file_name = os.path.join(data_dir, 'title.basics.tsv')\n",
    "    df_titles = pd.read_csv(file_name, sep='\\t', low_memory=False)\n",
    "    df_titles = df_titles[df_titles.tconst.isin(df_uniq_titles)]\n",
    "    \n",
    "    df_titles = \\\n",
    "        df_titles.sort_values(by=['tconst'],\n",
    "                              ignore_index=True).drop_duplicates(subset=['tconst'],\n",
    "                                                                 ignore_index=True, keep='last')\n",
    "    df_titles.drop(columns=['primaryTitle', 'isAdult'], inplace=True)    \n",
    "    \n",
    "        \n",
    "    # Nimikedataa\n",
    "    file_name = os.path.join(data_dir, 'title.principals.tsv')\n",
    "    df_principals = pd.read_csv(file_name, sep='\\t', low_memory=False)\n",
    "    df_principals.drop(columns=['job', 'characters'], inplace=True)\n",
    "    df_principals = df_principals[df_principals.tconst.isin(df_uniq_titles)]\n",
    "    df_principals['nconst_ind'] = df_principals.nconst.str.slice(2,9)\n",
    "    df_principals['nconst_ind'] = df_principals['nconst_ind'].astype('int')\n",
    "    df_principals.drop(columns=['nconst'], inplace=True)\n",
    "                                         \n",
    "    # Roolidataa\n",
    "    file_name = os.path.join(data_dir, 'name.basics.tsv')\n",
    "    df_names = pd.read_csv(file_name, sep='\\t', low_memory=False)\n",
    "    df_names.drop(columns=['primaryProfession', 'knownForTitles'], inplace=True)\n",
    "    df_names['nconst_ind'] = df_names.nconst.str.slice(2,9)\n",
    "    df_names['nconst_ind'] = df_names['nconst_ind'].astype('int')\n",
    "    df_names.drop(columns=['nconst'], inplace=True)\n",
    "\n",
    "    df_meta = df_principals.merge(df_titles,\n",
    "                                  how='left',\n",
    "                                  left_on='tconst', \n",
    "                                  right_on='tconst').merge(df_names,\n",
    "                                                           how='left',\n",
    "                                                           left_on='nconst_ind',\n",
    "                                                           right_on='nconst_ind')\n",
    "    df_meta.replace('\\\\N', '', inplace=True)\n",
    "    \n",
    "    df_meta.startYear = df_meta.startYear.astype('float')\n",
    "    df_meta.endYear = df_meta.endYear.replace('', np.nan).astype('float')\n",
    "    df_meta.birthYear = df_meta.deathYear.replace('', np.nan).astype('float')\n",
    "    df_meta.deathYear = df_meta.deathYear.replace('', np.nan).astype('float')\n",
    "    \n",
    "    df_meta.to_pickle(file_name_meta_full) # Talleta levylle\n"
   ]
  },
  {
   "cell_type": "markdown",
   "id": "2b04e22e-dff2-4bed-8193-c524375b9ebc",
   "metadata": {},
   "source": [
    "### Katsotaan datatiedoston sisältöä"
   ]
  },
  {
   "cell_type": "code",
   "execution_count": null,
   "id": "2a3af591-7c26-42f4-8de2-4bd2d03af8a9",
   "metadata": {},
   "outputs": [],
   "source": [
    "df_meta.head()"
   ]
  },
  {
   "cell_type": "code",
   "execution_count": null,
   "id": "0090c906-b06f-45c7-b815-fad99d4fa0fe",
   "metadata": {},
   "outputs": [],
   "source": [
    "df_meta.describe()"
   ]
  },
  {
   "cell_type": "code",
   "execution_count": null,
   "id": "1a42b1a2-aa17-4d9d-810c-2652ce443986",
   "metadata": {},
   "outputs": [],
   "source": [
    "df_meta_uniq = df_meta.drop_duplicates(subset=['tconst'], ignore_index=True)"
   ]
  },
  {
   "cell_type": "markdown",
   "id": "7640818b-a578-4c00-abfe-5429aad47efc",
   "metadata": {},
   "source": [
    "### Piirretään muutama kuvaileva graafi"
   ]
  },
  {
   "cell_type": "code",
   "execution_count": null,
   "id": "c22c8357-fdf0-4c9e-a9c8-18191bc75515",
   "metadata": {},
   "outputs": [],
   "source": [
    "df_group = df_meta_uniq.groupby('startYear').count()\n",
    "\n",
    "fig, ax = plt.subplots(1, 1, figsize=(15,5))\n",
    "ax.bar(df_group.index, df_group.tconst)\n",
    "ax.set_xlabel('vuosi')\n",
    "ax.set_ylabel('elokuvia')"
   ]
  },
  {
   "cell_type": "code",
   "execution_count": null,
   "id": "0d61964e-c3d9-4971-81b3-dd7aafe3d061",
   "metadata": {},
   "outputs": [],
   "source": [
    "df_genres = df_meta_uniq.genres.str.lower().str.split(',', expand=True)\n",
    "df_group = df_genres.stack().reset_index().groupby(0).count().sort_values(by='level_0', ascending=False)\n",
    "\n",
    "fig, ax = plt.subplots(1, 1, figsize=(10,5))\n",
    "ax.barh(df_group.index, df_group.level_0)\n",
    "ax.set_xlabel('elokuvia')\n",
    "ax.set_ylabel('aihe')"
   ]
  },
  {
   "cell_type": "code",
   "execution_count": null,
   "id": "f9beb8d7-957f-48f9-99c6-bf4c16896d73",
   "metadata": {},
   "outputs": [],
   "source": [
    "df_group = df_meta.groupby(by='primaryName').count().sort_values(by='tconst', ascending=False).iloc[:20]\n",
    "\n",
    "fig, ax = plt.subplots(1, 1, figsize=(10,5))\n",
    "ax.barh(df_group.index, df_group.tconst)\n",
    "ax.set_xlabel('mainintoja')\n",
    "ax.set_ylabel('henkilö')"
   ]
  },
  {
   "cell_type": "code",
   "execution_count": null,
   "id": "99301de2-1312-435a-89c8-8758f1a1310c",
   "metadata": {},
   "outputs": [],
   "source": [
    "def plot_meta_by_name(name):\n",
    "    \n",
    "    print(df_meta.loc[df_meta.primaryName == name, \n",
    "                      ['category', 'originalTitle', 'titleType', 'startYear']].sort_values(by='startYear'))\n",
    "    "
   ]
  },
  {
   "cell_type": "code",
   "execution_count": null,
   "id": "fff98210-0c73-400d-8794-5cdbf96bc6ac",
   "metadata": {},
   "outputs": [],
   "source": [
    "plot_meta_by_name('William Shakespeare')"
   ]
  },
  {
   "cell_type": "code",
   "execution_count": null,
   "id": "aef6de01-2123-4261-a26b-f5c37339c3c3",
   "metadata": {},
   "outputs": [],
   "source": [
    "plot_meta_by_name('Renny Harlin')"
   ]
  },
  {
   "cell_type": "markdown",
   "id": "48ff3d20-16e3-4b39-b702-4caa0e30a720",
   "metadata": {},
   "source": [
    "## Sentimenttianalyysi"
   ]
  },
  {
   "cell_type": "markdown",
   "id": "b9f9e52a-c7ef-4d20-82d9-62122c533513",
   "metadata": {},
   "source": [
    "### Jaetaan data opetus- ja testiaineistoihin"
   ]
  },
  {
   "cell_type": "code",
   "execution_count": null,
   "id": "698a627a-168f-4ecc-bfb9-7298527b86c8",
   "metadata": {},
   "outputs": [],
   "source": [
    "train_data, test_data = tfds.load(name=\"imdb_reviews\", split=[\"train\", \"test\"], \n",
    "                                  batch_size=-1, as_supervised=True)\n",
    "train_examples, train_labels = tfds.as_numpy(train_data)\n",
    "test_examples, test_labels = tfds.as_numpy(test_data)"
   ]
  },
  {
   "cell_type": "code",
   "execution_count": null,
   "id": "43d276df-9336-436f-84e9-c89b5427a434",
   "metadata": {},
   "outputs": [],
   "source": [
    "print(\"Training entries: {}, test entries: {}\".format(len(train_examples), len(test_examples)))"
   ]
  },
  {
   "cell_type": "markdown",
   "id": "968cbacd-fb57-4320-8680-82d219de2536",
   "metadata": {},
   "source": [
    "### Katsotaan esimerkit positiivisesta ja negatiivisesta arviosta"
   ]
  },
  {
   "cell_type": "code",
   "execution_count": null,
   "id": "9ab7c8a3-2d1d-4384-b271-cdc33d1dd138",
   "metadata": {},
   "outputs": [],
   "source": [
    "train_examples[0]"
   ]
  },
  {
   "cell_type": "code",
   "execution_count": null,
   "id": "01744a2d-78ed-44ea-8509-a3b5d32ff0ab",
   "metadata": {},
   "outputs": [],
   "source": [
    "train_labels[0] # 0 == negatiivinen"
   ]
  },
  {
   "cell_type": "code",
   "execution_count": null,
   "id": "b034cc25-dc9e-4d79-920b-2dea2c25a750",
   "metadata": {},
   "outputs": [],
   "source": [
    "train_examples[5]"
   ]
  },
  {
   "cell_type": "code",
   "execution_count": null,
   "id": "7a06d5b0-5f42-4e7f-9c57-83cac0c16f72",
   "metadata": {},
   "outputs": [],
   "source": [
    "train_labels[5] # 1 == positiivinen"
   ]
  },
  {
   "cell_type": "markdown",
   "id": "bdef73b8-bf23-494e-9204-7baa14c1cd66",
   "metadata": {},
   "source": [
    "### Noudetaan (uutisilla) esiopetettu neuroverkko"
   ]
  },
  {
   "cell_type": "code",
   "execution_count": null,
   "id": "2ffacfe4-91ff-4b47-8950-d356fad3b515",
   "metadata": {},
   "outputs": [],
   "source": [
    "model = \"https://tfhub.dev/google/nnlm-en-dim50/2\"\n",
    "hub_layer = hub.KerasLayer(model, input_shape=[], dtype=tf.string, trainable=True)\n",
    "# hub_layer(train_examples[:3])"
   ]
  },
  {
   "cell_type": "markdown",
   "id": "0a0d06d3-432d-4a82-a8db-eec88a7c02ed",
   "metadata": {},
   "source": [
    "### Lisätään verkkoon tuoreita kerroksia uutta ongelmaa varten"
   ]
  },
  {
   "cell_type": "code",
   "execution_count": null,
   "id": "874c9032-013c-4466-b69a-ac9a7dfdb863",
   "metadata": {},
   "outputs": [],
   "source": [
    "model = tf.keras.Sequential()\n",
    "model.add(hub_layer)\n",
    "model.add(tf.keras.layers.Dense(16, activation='relu'))\n",
    "model.add(tf.keras.layers.Dense(1))\n",
    "\n",
    "model.summary()"
   ]
  },
  {
   "cell_type": "markdown",
   "id": "6ade051b-53e8-45d7-a4d5-20202e23b0b3",
   "metadata": {},
   "source": [
    "### Neuroverkon klassinen rakenne"
   ]
  },
  {
   "cell_type": "markdown",
   "id": "47a64f94-2d44-467c-ac6c-d9bd9be958bd",
   "metadata": {},
   "source": [
    "![title](neural_net.png)"
   ]
  },
  {
   "cell_type": "markdown",
   "id": "5957deeb-57f9-4ebb-95bf-688383a01228",
   "metadata": {},
   "source": [
    "Lähde https://www.cs.mcgill.ca/~jcheung/teaching/fall-2016/comp599/lectures/lecture23.pdf \"Goldberg et al. 2015\")"
   ]
  },
  {
   "cell_type": "markdown",
   "id": "b19b501a-1763-4b1b-93e8-b4508f6f6443",
   "metadata": {},
   "source": [
    "### Määritellään tavoiteltavat (optimointi ja vertailu) metriikat"
   ]
  },
  {
   "cell_type": "code",
   "execution_count": null,
   "id": "8a502ee2-dfc0-44d4-af47-14c7d270592b",
   "metadata": {},
   "outputs": [],
   "source": [
    "model.compile(optimizer='adam',\n",
    "              loss=tf.losses.BinaryCrossentropy(from_logits=True),\n",
    "              metrics=[tf.metrics.BinaryAccuracy(threshold=0.0, name='accuracy')])"
   ]
  },
  {
   "cell_type": "markdown",
   "id": "6a5adc31-3fa6-48e2-a720-0039fba9bcce",
   "metadata": {},
   "source": [
    "### Jaetaan aineisto vielä esiopetukseen- ja testaukseen"
   ]
  },
  {
   "cell_type": "code",
   "execution_count": null,
   "id": "f8e00b48-2dd6-4334-8297-88c912f99bd4",
   "metadata": {},
   "outputs": [],
   "source": [
    "train_cutoff = 10000\n",
    "\n",
    "x_val = train_examples[:train_cutoff]\n",
    "partial_x_train = train_examples[train_cutoff:]\n",
    "\n",
    "y_val = train_labels[:train_cutoff]\n",
    "partial_y_train = train_labels[train_cutoff:]"
   ]
  },
  {
   "cell_type": "markdown",
   "id": "1561133c-44bc-4753-bdc7-884b682f94b5",
   "metadata": {},
   "source": [
    "### Mallin opetusta (kesto olisi läppärillä n. 12 min)"
   ]
  },
  {
   "cell_type": "code",
   "execution_count": null,
   "id": "adfa1f2b-42dc-459d-8889-bc2f51250598",
   "metadata": {},
   "outputs": [],
   "source": [
    "model_dir = '../work/nlp_model'\n",
    "\n",
    "if os.path.exists(model_dir):\n",
    "    model = keras.models.load_model(model_dir)\n",
    "\n",
    "    with open(os.path.join(model_dir, 'hist.pkl'), 'rb') as handle:\n",
    "        hist = pickle.load(handle)\n",
    "else:\n",
    "    history = model.fit(partial_x_train,\n",
    "                        partial_y_train,\n",
    "                        epochs=40,\n",
    "                        batch_size=512,\n",
    "                        validation_data=(x_val, y_val),\n",
    "                        verbose=1)\n",
    "    model.save(model_dir)\n",
    "                                \n",
    "    with open(os.path.join(model_dir, 'hist.pkl'), 'wb') as handle:\n",
    "        pickle.dump(history.history, handle, protocol=pickle.HIGHEST_PROTOCOL)\n",
    "        \n",
    "    hist = history.history"
   ]
  },
  {
   "cell_type": "markdown",
   "id": "f330a3d6-68cf-4b94-be7d-108466651581",
   "metadata": {},
   "source": [
    "### Validoidaan malli "
   ]
  },
  {
   "cell_type": "code",
   "execution_count": null,
   "id": "1cacf3fe-421f-49d8-b4c8-54793f33f947",
   "metadata": {},
   "outputs": [],
   "source": [
    "results = model.evaluate(test_data, test_labels)"
   ]
  },
  {
   "cell_type": "code",
   "execution_count": null,
   "id": "3bb226ec-760c-4ea2-9ee5-b2b5c30a00ef",
   "metadata": {},
   "outputs": [],
   "source": [
    "history_dict = hist\n",
    "history_dict.keys()"
   ]
  },
  {
   "cell_type": "markdown",
   "id": "c0bdfb00-f4b8-46e8-b6b3-e4ffa7172581",
   "metadata": {},
   "source": [
    "### Katsotaan, miten mallin tarkuus kehittyi opetuksen aikana"
   ]
  },
  {
   "cell_type": "code",
   "execution_count": null,
   "id": "521c30ad-9f05-45c6-a797-338bd6fad801",
   "metadata": {},
   "outputs": [],
   "source": [
    "acc = history_dict['accuracy']\n",
    "val_acc = history_dict['val_accuracy']\n",
    "loss = history_dict['loss']\n",
    "val_loss = history_dict['val_loss']\n",
    "\n",
    "epochs = range(1, len(acc) + 1)\n",
    "\n",
    "# \"bo\" is for \"blue dot\"\n",
    "plt.plot(epochs, loss, 'bo', label='Training loss')\n",
    "# b is for \"solid blue line\"\n",
    "plt.plot(epochs, val_loss, 'b', label='Testing loss')\n",
    "plt.title('Training and testing loss')\n",
    "plt.xlabel('Epochs')\n",
    "plt.ylabel('Loss')\n",
    "plt.legend()\n",
    "\n",
    "plt.show()"
   ]
  },
  {
   "cell_type": "markdown",
   "id": "a32e8df6-db8c-4aad-bbcb-ffbd4c322bc4",
   "metadata": {},
   "source": [
    "### Katsotaan, miten malli toimii "
   ]
  },
  {
   "cell_type": "code",
   "execution_count": null,
   "id": "5d0c5c4e-5c29-4de2-9f9c-4aad7cba3d02",
   "metadata": {},
   "outputs": [],
   "source": [
    "plt.clf()   # clear figure\n",
    "\n",
    "plt.plot(epochs, acc, 'bo', label='Training acc')\n",
    "plt.plot(epochs, val_acc, 'b', label='Testing acc')\n",
    "plt.title('Training and testing accuracy')\n",
    "plt.xlabel('Epochs')\n",
    "plt.ylabel('Accuracy')\n",
    "plt.legend()\n",
    "\n",
    "plt.show()"
   ]
  },
  {
   "cell_type": "markdown",
   "id": "6ceecaf6-8376-4bf8-937a-6a4eb0b70f52",
   "metadata": {},
   "source": [
    "### Mallin lopullinen tarkkuus ~ 85% - harkitaan onko riittävä."
   ]
  },
  {
   "cell_type": "markdown",
   "id": "4cbc9180-3536-48db-82a7-dcfd155d6709",
   "metadata": {},
   "source": [
    "## Moderni vaihtoehto: XLNet\n",
    "https://github.com/zihangdai/xlnet"
   ]
  },
  {
   "cell_type": "markdown",
   "id": "ba9a9db9-4413-4110-9df5-80909a35c1f6",
   "metadata": {},
   "source": [
    "### XLNetin edullisia ominaisuuksia, mm. muisti ja huomiokyky (attention)"
   ]
  },
  {
   "cell_type": "markdown",
   "id": "d5c8398a-4ad5-4e8d-a8e9-b490efd28824",
   "metadata": {},
   "source": [
    "![title](transformer_self_attention.png)"
   ]
  },
  {
   "cell_type": "markdown",
   "id": "ae61cea3-3d2d-4498-b94f-1b4073933777",
   "metadata": {},
   "source": [
    "Lähde: http://127.0.0.1:8888/lab?token=e7b3aa40128c51b96129e8eeb8aa389748ae8da392791418"
   ]
  },
  {
   "cell_type": "markdown",
   "id": "ab8349cf-5310-4aa0-9d67-66d66f5737cd",
   "metadata": {},
   "source": [
    "### XLNet tarkkuus: ~96 % (artikkeli) ~93 % (Google Colab-palvelussa esimerkillä validoitu, koska läppärissä ei GPU:ta)"
   ]
  },
  {
   "cell_type": "code",
   "execution_count": null,
   "id": "dd8a59dd-ab4e-4a13-9ffb-6fb7ab8ede60",
   "metadata": {},
   "outputs": [],
   "source": []
  }
 ],
 "metadata": {
  "kernelspec": {
   "display_name": "Python 3 (ipykernel)",
   "language": "python",
   "name": "python3"
  },
  "language_info": {
   "codemirror_mode": {
    "name": "ipython",
    "version": 3
   },
   "file_extension": ".py",
   "mimetype": "text/x-python",
   "name": "python",
   "nbconvert_exporter": "python",
   "pygments_lexer": "ipython3",
   "version": "3.9.7"
  }
 },
 "nbformat": 4,
 "nbformat_minor": 5
}
